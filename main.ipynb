{
 "cells": [
  {
   "cell_type": "markdown",
   "metadata": {},
   "source": [
    "# CSC 535 Final Project\n"
   ]
  },
  {
   "cell_type": "code",
   "execution_count": 1,
   "metadata": {},
   "outputs": [],
   "source": [
    "import numpy as np\n",
    "import pandas as pd\n",
    "import matplotlib.pyplot as plt\n",
    "from sklearn.preprocessing import Normalizer, StandardScaler\n",
    "from sklearn.cluster import KMeans\n",
    "from sklearn.decomposition import PCA\n",
    "\n",
    "import yfinance as yf\n"
   ]
  },
  {
   "cell_type": "markdown",
   "metadata": {},
   "source": [
    "# 4 groups of stocks, each with 5 companies, from different industries (Tech, Financial, Food and Drink, Health)"
   ]
  },
  {
   "cell_type": "code",
   "execution_count": 2,
   "metadata": {},
   "outputs": [],
   "source": [
    "stock_list = {\n",
    "    'Microsoft': 'MSFT', \n",
    "    'Amazon': 'AMZN', \n",
    "    'Tesla': 'TSLA',\n",
    "    'Netflix': 'NFLX',\n",
    "    'Snap': 'SNAP',\n",
    "    'Bank of America': 'BAC',\n",
    "    'JPMorgan Chase': 'JPM',\n",
    "    'Mastercard': 'MA',\n",
    "    'American Express': 'AXP',\n",
    "    'Capital One': 'COF',\n",
    "    'Nestle': 'NSRGY',\n",
    "    'PepsiCo': 'PEP',\n",
    "    'Uilever': 'UL',\n",
    "    'Monster': 'MNST',\n",
    "    'Hershey': 'HSY',\n",
    "    'Abbott': 'ABT',\n",
    "    'ResMed': 'RMD',\n",
    "    'Bio-Rad Laboratories': 'BIO',\n",
    "    'ABIOMED': 'ABMD',\n",
    "    'Pfizer': 'PFE',\n",
    "}\n",
    "ticker_list = list(stock_list.values())\n",
    "name_list = list(stock_list.keys())"
   ]
  },
  {
   "cell_type": "code",
   "execution_count": 3,
   "metadata": {},
   "outputs": [
    {
     "name": "stdout",
     "output_type": "stream",
     "text": [
      "[*********************100%***********************]  20 of 20 completed\n"
     ]
    }
   ],
   "source": [
    "msft = yf.Tickers(ticker_list)\n",
    "\n",
    "df = pd.DataFrame(msft.history(period='5d', interval='1d'))\n",
    "df.fillna(np.nan)\n",
    "\n",
    "\n",
    "# Stock movement(returns) in the last 5 days\n",
    "returns = (df.Close.to_numpy()[-1] / df.Open.to_numpy()[0] - 1)*100\n",
    "# print(returns)\n",
    "\n",
    "# Stock volatility in the last 5 days\n",
    "volatility = df.Close.to_numpy().std(axis=0)\n",
    "\n"
   ]
  },
  {
   "cell_type": "code",
   "execution_count": 4,
   "metadata": {},
   "outputs": [],
   "source": [
    "attr_list = ['ebitdaMargins', 'profitMargins', 'grossMargins', 'revenueGrowth', 'earningsGrowth', 'returnOnAssets', 'debtToEquity', 'returnOnEquity']\n",
    "df = pd.DataFrame(columns=attr_list, index=name_list)\n",
    "for name in name_list:\n",
    "    info = yf.Ticker(stock_list[name]).info\n",
    "    for attr in attr_list:\n",
    "        df[attr][name] = info[attr]"
   ]
  },
  {
   "cell_type": "code",
   "execution_count": 5,
   "metadata": {},
   "outputs": [
    {
     "name": "stdout",
     "output_type": "stream",
     "text": [
      "                     ebitdaMargins profitMargins grossMargins revenueGrowth  \\\n",
      "Microsoft                  0.48649       0.38515      0.68865          0.22   \n",
      "Amazon                     0.13382       0.06641      0.40679         0.272   \n",
      "Tesla                      0.15512       0.07403      0.23107         0.568   \n",
      "Netflix                    0.21635       0.14243      0.41098         0.242   \n",
      "Snap                      -0.19596      -0.22489      0.54027         1.162   \n",
      "Bank of America                  0        0.3337            0         0.234   \n",
      "JPMorgan Chase                   0       0.37177            0          0.45   \n",
      "Mastercard                 0.57505       0.45497            1         0.299   \n",
      "American Express                 0       0.18895       0.7108         0.375   \n",
      "Capital One                      0       0.38679            0         2.694   \n",
      "Nestle                     0.19714       0.14412       0.4938         0.015   \n",
      "PepsiCo                    0.18371       0.11005      0.54295         0.205   \n",
      "Uilever                    0.20252       0.10665      0.43536         0.003   \n",
      "Monster                    0.34689        0.2876      0.57065         0.132   \n",
      "Hershey                    0.26354       0.16232      0.45357         0.063   \n",
      "Abbott                     0.29229       0.17122       0.5685         0.234   \n",
      "ResMed                     0.32056       0.14923      0.58412         0.202   \n",
      "Bio-Rad Laboratories       0.25469       2.23474      0.57827         0.154   \n",
      "ABIOMED                    0.30991        0.1651      0.81704         0.532   \n",
      "Pfizer                     0.36238       0.24001      0.76659         0.446   \n",
      "\n",
      "                     earningsGrowth returnOnAssets debtToEquity  \\\n",
      "Microsoft                     0.489        0.14589       51.938   \n",
      "Amazon                        0.468        0.05988      107.355   \n",
      "Tesla                         4.333        0.05537        35.65   \n",
      "Netflix                       1.389        0.09289      137.684   \n",
      "Snap                           None       -0.08148       99.949   \n",
      "Bank of America               0.672        0.01045         None   \n",
      "JPMorgan Chase                1.739        0.01387         None   \n",
      "Mastercard                    0.616        0.17801      203.778   \n",
      "American Express              0.745        0.04188      150.569   \n",
      "Capital One                    None        0.02803         None   \n",
      "Nestle                        0.034        0.07269        96.83   \n",
      "PepsiCo                       0.441        0.08035      274.698   \n",
      "Uilever                      -0.048          0.081      141.539   \n",
      "Monster                      -0.031        0.16991        0.318   \n",
      "Hershey                           0        0.13493      185.261   \n",
      "Abbott                        0.696         0.0774       53.112   \n",
      "ResMed                        0.139        0.12869       31.398   \n",
      "Bio-Rad Laboratories          1.978        0.02434        1.469   \n",
      "ABIOMED                        None        0.12236        0.433   \n",
      "Pfizer                        0.443        0.04603       57.648   \n",
      "\n",
      "                     returnOnEquity    returns  volatility  \n",
      "Microsoft                   0.49303  -5.098392    5.462377  \n",
      "Amazon                      0.31229   3.736356    2.581220  \n",
      "Tesla                       0.15641  -4.506808   40.849084  \n",
      "Netflix                     0.35307   4.210723    3.974127  \n",
      "Snap                       -0.29455   0.616014    0.500786  \n",
      "Bank of America             0.11245  -1.400531    5.721478  \n",
      "JPMorgan Chase              0.17365   1.784369    3.143982  \n",
      "Mastercard                   1.2762   1.998876    2.189964  \n",
      "American Express            0.33606   2.041970    1.768727  \n",
      "Capital One                 0.19621   4.984279    9.043954  \n",
      "Nestle                      0.27106  -1.410071    1.378813  \n",
      "PepsiCo                     0.59039  -3.774907    3.554557  \n",
      "Uilever                     0.31462  -8.512367   13.191252  \n",
      "Monster                     0.28101   1.120094    1.571604  \n",
      "Hershey                     0.62283   2.298054    3.115563  \n",
      "Abbott                      0.21862   1.185240    0.679735  \n",
      "ResMed                       0.1752   0.954743    2.319935  \n",
      "Bio-Rad Laboratories        0.55127  -3.485029    0.393395  \n",
      "ABIOMED                     0.12818 -13.926429   57.530362  \n",
      "Pfizer                      0.14031  -0.173044    0.458754  \n"
     ]
    }
   ],
   "source": [
    "df.insert(len(df.columns),'returns',returns)\n",
    "df.insert(len(df.columns),'volatility',volatility)\n",
    "print(df)"
   ]
  },
  {
   "cell_type": "markdown",
   "metadata": {},
   "source": [
    "# Dimentionality Reduction Using PCA"
   ]
  },
  {
   "cell_type": "code",
   "execution_count": 6,
   "metadata": {},
   "outputs": [],
   "source": [
    "df_clean = df.dropna()\n",
    "X = df_clean.to_numpy()\n",
    "pca = PCA(n_components=2)\n",
    "X_reduced = pca.fit_transform(X)"
   ]
  },
  {
   "cell_type": "markdown",
   "metadata": {},
   "source": [
    "# Using the elbow method to find the besk number of cluster for K-means"
   ]
  },
  {
   "cell_type": "code",
   "execution_count": 7,
   "metadata": {},
   "outputs": [
    {
     "data": {
      "image/png": "[encoded data removed]",
      "text/plain": [
       "<Figure size 432x288 with 1 Axes>"
      ]
     },
     "metadata": {
      "needs_background": "light"
     },
     "output_type": "display_data"
    }
   ],
   "source": [
    "# X = np.array([returns, returns_to_volatility]).T\n",
    "X = X_reduced\n",
    "distortion = []\n",
    "K = range(1,len(X),2)\n",
    "for k in K:\n",
    "    kmeans = KMeans(n_clusters=k)\n",
    "    kmeans.fit(X)\n",
    "    distortion.append(kmeans.inertia_)\n",
    "    \n",
    "\n",
    "plt.xticks(K)\n",
    "plt.plot(K,distortion)\n",
    "plt.show()\n"
   ]
  },
  {
   "cell_type": "markdown",
   "metadata": {},
   "source": [
    "## Using the \"Elbow Method\", 3 is the most suitable number of cluster to go with"
   ]
  },
  {
   "cell_type": "code",
   "execution_count": 8,
   "metadata": {},
   "outputs": [
    {
     "data": {
      "image/png": "[encoded data removed]",
      "text/plain": [
       "<Figure size 432x288 with 1 Axes>"
      ]
     },
     "metadata": {
      "needs_background": "light"
     },
     "output_type": "display_data"
    }
   ],
   "source": [
    "k = 3\n",
    "labels = KMeans(n_clusters=k).fit_predict(X)\n",
    "# print(labels)\n",
    "df_labeled = pd.DataFrame({'labels': labels, '0': X.T[0], '1': X.T[1]})\n",
    "\n",
    "colors = ['r', 'g', 'b', 'black', 'orange', 'pink', 'purple']\n",
    "for i in range(k):\n",
    "    plt.scatter(df_labeled['0'][labels == i], \n",
    "                df_labeled['1'][labels == i], \n",
    "                color=colors[i])"
   ]
  },
  {
   "cell_type": "markdown",
   "metadata": {},
   "source": [
    "# Calculate returns to volatility ratios then print output to csv"
   ]
  },
  {
   "cell_type": "code",
   "execution_count": 9,
   "metadata": {},
   "outputs": [],
   "source": [
    "df_clean.insert(0, 'labels', labels)\n",
    "df_clean.insert(len(df_clean.columns), 'returns_to_volatility', df_clean['returns'] / df_clean['volatility'])    \n",
    "\n",
    "df_clean.to_csv('Final Clustered K-mean.csv')"
   ]
  }
 ],
 "metadata": {
  "interpreter": {
   "hash": "1ddbfa99a8b51eb73919ade4ecc142ffce33a50fb2334d0bb7603b69a46e1fa5"
  },
  "kernelspec": {
   "display_name": "Python 3.8.3 32-bit ('venv': venv)",
   "language": "python",
   "name": "python3"
  },
  "language_info": {
   "codemirror_mode": {
    "name": "ipython",
    "version": 3
   },
   "file_extension": ".py",
   "mimetype": "text/x-python",
   "name": "python",
   "nbconvert_exporter": "python",
   "pygments_lexer": "ipython3",
   "version": "3.8.3"
  },
  "orig_nbformat": 4
 },
 "nbformat": 4,
 "nbformat_minor": 2
}
