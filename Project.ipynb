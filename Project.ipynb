{
 "cells": [
  {
   "cell_type": "code",
   "execution_count": 111,
   "id": "d36f2d93",
   "metadata": {},
   "outputs": [],
   "source": [
    "import pip\n",
    "import os\n",
    "import numpy as np\n",
    "import pandas as pd\n",
    "import matplotlib.pyplot as plt"
   ]
  },
  {
   "cell_type": "code",
   "execution_count": 112,
   "id": "a3f23159",
   "metadata": {
    "scrolled": true
   },
   "outputs": [
    {
     "name": "stdout",
     "output_type": "stream",
     "text": [
      "C:\\Users\\theja\\Desktop\\main.PC\\MoState\\S4Fall\\Data Mining 535\\Project\n"
     ]
    }
   ],
   "source": [
    "cd C:\\Users\\theja\\Desktop\\main.PC\\MoState\\S4Fall\\Data Mining 535\\Project"
   ]
  },
  {
   "cell_type": "code",
   "execution_count": 113,
   "id": "3e7456b3",
   "metadata": {},
   "outputs": [],
   "source": [
    "os.system('pip install yfinance')\n",
    "os.system('pip install plotly')\n",
    "import yfinance as yf"
   ]
  },
  {
   "cell_type": "code",
   "execution_count": 114,
   "id": "88c17e34",
   "metadata": {},
   "outputs": [],
   "source": [
    "import datetime\n",
    "#oweek = current - datetime.timedelta(days=7)\n",
    "current = date.today()\n",
    "one_week = current - datetime.timedelta(days=7)\n",
    "two_week = one_week - datetime.timedelta(days=7)\n",
    "three_week = two_week - datetime.timedelta(days=7)\n",
    "four_week = three_week - datetime.timedelta(days=7)"
   ]
  },
  {
   "cell_type": "code",
   "execution_count": 115,
   "id": "902ef459",
   "metadata": {},
   "outputs": [
    {
     "name": "stdout",
     "output_type": "stream",
     "text": [
      "[*********************100%***********************]  1 of 1 completed\n",
      "[*********************100%***********************]  1 of 1 completed\n",
      "[*********************100%***********************]  1 of 1 completed\n",
      "[*********************100%***********************]  1 of 1 completed\n",
      "[*********************100%***********************]  1 of 1 completed\n",
      "[*********************100%***********************]  1 of 1 completed\n",
      "[*********************100%***********************]  1 of 1 completed\n",
      "[*********************100%***********************]  1 of 1 completed\n",
      "[*********************100%***********************]  1 of 1 completed\n",
      "[*********************100%***********************]  1 of 1 completed\n",
      "[*********************100%***********************]  1 of 1 completed\n",
      "[*********************100%***********************]  1 of 1 completed\n",
      "[*********************100%***********************]  1 of 1 completed\n",
      "[*********************100%***********************]  1 of 1 completed\n",
      "[*********************100%***********************]  1 of 1 completed\n",
      "[*********************100%***********************]  1 of 1 completed\n",
      "[*********************100%***********************]  1 of 1 completed\n",
      "[*********************100%***********************]  1 of 1 completed\n",
      "[*********************100%***********************]  1 of 1 completed\n",
      "[*********************100%***********************]  1 of 1 completed\n",
      "[*********************100%***********************]  1 of 1 completed\n",
      "[*********************100%***********************]  1 of 1 completed\n",
      "[*********************100%***********************]  1 of 1 completed\n",
      "[*********************100%***********************]  1 of 1 completed\n",
      "[*********************100%***********************]  1 of 1 completed\n",
      "[*********************100%***********************]  1 of 1 completed\n",
      "[*********************100%***********************]  1 of 1 completed\n",
      "[*********************100%***********************]  1 of 1 completed\n",
      "[*********************100%***********************]  1 of 1 completed\n",
      "[*********************100%***********************]  1 of 1 completed\n",
      "[*********************100%***********************]  1 of 1 completed\n",
      "[*********************100%***********************]  1 of 1 completed\n",
      "[*********************100%***********************]  1 of 1 completed\n",
      "[*********************100%***********************]  1 of 1 completed\n",
      "[*********************100%***********************]  1 of 1 completed\n",
      "[*********************100%***********************]  1 of 1 completed\n",
      "[*********************100%***********************]  1 of 1 completed\n",
      "[*********************100%***********************]  1 of 1 completed\n",
      "[*********************100%***********************]  1 of 1 completed\n",
      "[*********************100%***********************]  1 of 1 completed\n",
      "[*********************100%***********************]  1 of 1 completed\n",
      "[*********************100%***********************]  1 of 1 completed\n",
      "[*********************100%***********************]  1 of 1 completed\n",
      "[*********************100%***********************]  1 of 1 completed\n",
      "[*********************100%***********************]  1 of 1 completed\n",
      "[*********************100%***********************]  1 of 1 completed\n",
      "[*********************100%***********************]  1 of 1 completed\n",
      "[*********************100%***********************]  1 of 1 completed\n",
      "[*********************100%***********************]  1 of 1 completed\n",
      "[*********************100%***********************]  1 of 1 completed\n",
      "[*********************100%***********************]  1 of 1 completed\n",
      "[*********************100%***********************]  1 of 1 completed\n",
      "[*********************100%***********************]  1 of 1 completed\n",
      "[*********************100%***********************]  1 of 1 completed\n",
      "[*********************100%***********************]  1 of 1 completed\n",
      "[*********************100%***********************]  1 of 1 completed\n",
      "[*********************100%***********************]  1 of 1 completed\n",
      "[*********************100%***********************]  1 of 1 completed\n",
      "[*********************100%***********************]  1 of 1 completed\n",
      "[*********************100%***********************]  1 of 1 completed\n",
      "[*********************100%***********************]  1 of 1 completed\n",
      "[*********************100%***********************]  1 of 1 completed\n",
      "[*********************100%***********************]  1 of 1 completed\n",
      "[*********************100%***********************]  1 of 1 completed\n",
      "[*********************100%***********************]  1 of 1 completed\n",
      "[*********************100%***********************]  1 of 1 completed\n",
      "[*********************100%***********************]  1 of 1 completed\n",
      "[*********************100%***********************]  1 of 1 completed\n",
      "[*********************100%***********************]  1 of 1 completed\n",
      "[*********************100%***********************]  1 of 1 completed\n",
      "[*********************100%***********************]  1 of 1 completed\n",
      "[*********************100%***********************]  1 of 1 completed\n",
      "[*********************100%***********************]  1 of 1 completed\n",
      "[*********************100%***********************]  1 of 1 completed\n",
      "[*********************100%***********************]  1 of 1 completed\n",
      "[*********************100%***********************]  1 of 1 completed\n",
      "[*********************100%***********************]  1 of 1 completed\n",
      "[*********************100%***********************]  1 of 1 completed\n",
      "[*********************100%***********************]  1 of 1 completed\n",
      "[*********************100%***********************]  1 of 1 completed\n"
     ]
    }
   ],
   "source": [
    "df = pd.DataFrame()\n",
    "vals_w1 = []\n",
    "vals_w2 = []\n",
    "vals_w3 = []\n",
    "vals_w4 = []\n",
    "avg_vals = []\n",
    "stock_list = {\n",
    "    'Microsoft': 'MSFT', \n",
    "    'Amazon': 'AMZN', \n",
    "    'Tesla': 'TSLA',\n",
    "    'Netflix': 'NFLX',\n",
    "    'Snap': 'SNAP',\n",
    "    'Bank of America': 'BAC',\n",
    "    'JPMorgan Chase': 'JPM',\n",
    "    'Mastercard': 'MA',\n",
    "    'American Express': 'AXP',\n",
    "    'Capital One': 'COF',\n",
    "    'Nestle': 'NSRGY',\n",
    "    'PepsiCo': 'PEP',\n",
    "    'Uilever': 'UL',\n",
    "    'Monster': 'MNST',\n",
    "    'Hershey': 'HSY',\n",
    "    'Abbott': 'ABT',\n",
    "    'ResMed': 'RMD',\n",
    "    'Penn': 'PENN',\n",
    "    'ABIOMED': 'ABMD',\n",
    "    'Pfizer': 'PFE',\n",
    "}\n",
    "tickers = list(stock_list.values())\n",
    "company = list(stock_list.keys())\n",
    "\n",
    "#determine average price each weel\n",
    "#determine open - close average for each week for one month\n",
    "for name in tickers:\n",
    "    df = yf.download(tickers=name, period='5d', interval='1h',start=one_week,end=current)\n",
    "    op = df['Open'].mean()\n",
    "    cl = df['Close'].mean()\n",
    "    avg_wk1 = (op + cl) / 2\n",
    "    vals_w1.append(op - cl)\n",
    "    df = yf.download(tickers=name, period='5d', interval='1h',start=two_week,end=one_week)\n",
    "    op = df['Open'].mean()\n",
    "    cl = df['Close'].mean()\n",
    "    avg_wk2 = (op + cl) / 2\n",
    "    vals_w2.append(op - cl)\n",
    "    df = yf.download(tickers=name, period='5d', interval='1h',start=three_week,end=two_week)\n",
    "    op = df['Open'].mean()\n",
    "    cl = df['Close'].mean()\n",
    "    avg_wk3 = (op + cl) / 2\n",
    "    vals_w3.append(op - cl)\n",
    "    df = yf.download(tickers=name, period='5d', interval='1h',start=four_week,end=three_week)\n",
    "    op = df['Open'].mean()\n",
    "    cl = df['Close'].mean()\n",
    "    avg_wk4 = (op + cl) / 2\n",
    "    vals_w4.append(op - cl)\n",
    "    avg_vals.append((avg_wk1+avg_wk2+avg_wk3+avg_wk4)/4)\n",
    "    "
   ]
  },
  {
   "cell_type": "code",
   "execution_count": 116,
   "id": "ba6f51ed",
   "metadata": {},
   "outputs": [
    {
     "name": "stdout",
     "output_type": "stream",
     "text": [
      "    Stock  Mean Week Total  Average Value\n",
      "0    MSFT         0.437785     334.945819\n",
      "1    AMZN        11.853122    3541.907568\n",
      "2    TSLA         0.997250    1084.443853\n",
      "3    NFLX         3.123669     655.611556\n",
      "4    SNAP         0.191865      50.800097\n",
      "5     BAC         0.127311      46.063998\n",
      "6     JPM         0.386154     163.687972\n",
      "7      MA         0.283074     337.377410\n",
      "8     AXP         0.698670     168.792038\n",
      "9     COF         0.445806     150.861983\n",
      "10  NSRGY         0.162554     131.375491\n",
      "11    PEP         0.067936     163.553731\n",
      "12     UL         0.084795      52.008196\n",
      "13   MNST         0.282851      88.535072\n",
      "14    HSY         0.042714     179.315482\n",
      "15    ABT         0.064372     128.062717\n",
      "16    RMD         0.611297     258.636805\n",
      "17   PENN         0.135745      53.076977\n",
      "18   ABMD         2.318306     333.252852\n",
      "19    PFE        -0.029409      51.713973\n"
     ]
    }
   ],
   "source": [
    "#Calulate the total of the mean open/closes\n",
    "#Calculate the total of all the average prices\n",
    "totals = []\n",
    "avg_total = 0\n",
    "\n",
    "for i in range(0,20):\n",
    "    totals.append(vals_w1[i] + vals_w2[i] + vals_w3[i] + vals_w4[i])\n",
    "    avg_total += avg_vals[i]\n",
    "    \n",
    "df = pd.DataFrame({'Stock': tickers, 'Mean Week Total': totals, 'Average Value' : avg_vals})\n",
    "    \n",
    "print(df)"
   ]
  },
  {
   "cell_type": "code",
   "execution_count": 117,
   "id": "95e56c1e",
   "metadata": {},
   "outputs": [
    {
     "name": "stdout",
     "output_type": "stream",
     "text": [
      "    Stock  Mean Week Total  Average Value  Mean Change\n",
      "0    MSFT         0.437785     334.945819    10.422305\n",
      "1    AMZN        11.853122    3541.907568    26.685359\n",
      "2    TSLA         0.997250    1084.443853     7.332875\n",
      "3    NFLX         3.123669     655.611556    37.992326\n",
      "4    SNAP         0.191865      50.800097    30.116813\n",
      "5     BAC         0.127311      46.063998    22.038415\n",
      "6     JPM         0.386154     163.687972    18.811412\n",
      "7      MA         0.283074     337.377410     6.690535\n",
      "8     AXP         0.698670     168.792038    33.006380\n",
      "9     COF         0.445806     150.861983    23.563703\n",
      "10  NSRGY         0.162554     131.375491     9.866446\n",
      "11    PEP         0.067936     163.553731     3.312210\n",
      "12     UL         0.084795      52.008196    13.001015\n",
      "13   MNST         0.282851      88.535072    25.475314\n",
      "14    HSY         0.042714     179.315482     1.899446\n",
      "15    ABT         0.064372     128.062717     4.008246\n",
      "16    RMD         0.611297     258.636805    18.846885\n",
      "17   PENN         0.135745      53.076977    20.393588\n",
      "18   ABMD         2.318306     333.252852    55.472078\n",
      "19    PFE        -0.029409      51.713973    -4.534654\n"
     ]
    }
   ],
   "source": [
    "#algorithm for determining value of change\n",
    "pct_of_total = []\n",
    "calculated_mean = []\n",
    "for i in range(0,20):\n",
    "    pct_of_total.append(avg_vals[i] / avg_total)\n",
    "    calculated_mean.append(totals[i] / pct_of_total[i])\n",
    "    \n",
    "df.insert(len(df.columns),'Mean Change', calculated_mean)\n",
    "print(df)"
   ]
  },
  {
   "cell_type": "code",
   "execution_count": 118,
   "id": "a10726f2",
   "metadata": {},
   "outputs": [
    {
     "name": "stdout",
     "output_type": "stream",
     "text": [
      "    Stock  Mean Week Total  Average Value  Mean Change Buy Hold or Sell\n",
      "0    MSFT         0.437785     334.945819    10.422305              Buy\n",
      "1    AMZN        11.853122    3541.907568    26.685359              Buy\n",
      "2    TSLA         0.997250    1084.443853     7.332875             Hold\n",
      "3    NFLX         3.123669     655.611556    37.992326              Buy\n",
      "4    SNAP         0.191865      50.800097    30.116813              Buy\n",
      "5     BAC         0.127311      46.063998    22.038415              Buy\n",
      "6     JPM         0.386154     163.687972    18.811412              Buy\n",
      "7      MA         0.283074     337.377410     6.690535             Hold\n",
      "8     AXP         0.698670     168.792038    33.006380              Buy\n",
      "9     COF         0.445806     150.861983    23.563703              Buy\n",
      "10  NSRGY         0.162554     131.375491     9.866446             Hold\n",
      "11    PEP         0.067936     163.553731     3.312210             Hold\n",
      "12     UL         0.084795      52.008196    13.001015              Buy\n",
      "13   MNST         0.282851      88.535072    25.475314              Buy\n",
      "14    HSY         0.042714     179.315482     1.899446             Hold\n",
      "15    ABT         0.064372     128.062717     4.008246             Hold\n",
      "16    RMD         0.611297     258.636805    18.846885              Buy\n",
      "17   PENN         0.135745      53.076977    20.393588              Buy\n",
      "18   ABMD         2.318306     333.252852    55.472078              Buy\n",
      "19    PFE        -0.029409      51.713973    -4.534654             Sell\n"
     ]
    }
   ],
   "source": [
    "#assign buy, hold, or sell value to each stock\n",
    "#based on value of change\n",
    "bsh = []\n",
    "colors = []\n",
    "for i in range(0,20):\n",
    "    if (calculated_mean[i] > 10):\n",
    "        bsh.append('Buy')\n",
    "        colors.append('g')\n",
    "    if ((calculated_mean[i] < 10) & (calculated_mean[i] > 0)):\n",
    "        bsh.append(\"Hold\")\n",
    "        colors.append('y')\n",
    "    if (calculated_mean[i] < 0):\n",
    "        bsh.append(\"Sell\")\n",
    "        colors.append('b')\n",
    "        \n",
    "df.insert(len(df.columns), 'Buy Hold or Sell', bsh)\n",
    "print(df)"
   ]
  },
  {
   "cell_type": "code",
   "execution_count": 119,
   "id": "c059acf7",
   "metadata": {},
   "outputs": [
    {
     "data": {
      "text/plain": [
       "<matplotlib.collections.PathCollection at 0x1a0e999ab80>"
      ]
     },
     "execution_count": 119,
     "metadata": {},
     "output_type": "execute_result"
    },
    {
     "data": {
      "image/png": "[encoded data removed]",
      "text/plain": [
       "<Figure size 432x288 with 1 Axes>"
      ]
     },
     "metadata": {
      "needs_background": "light"
     },
     "output_type": "display_data"
    }
   ],
   "source": [
    "#Show values of change on scatterplot graph\n",
    "plt.scatter(df['Buy Hold or Sell'], \n",
    "                df['Mean Change'],\n",
    "                color = 'black')"
   ]
  },
  {
   "cell_type": "code",
   "execution_count": 120,
   "id": "5be3caea",
   "metadata": {},
   "outputs": [],
   "source": [
    "#Save final dataframe to a CSV file\n",
    "df.to_csv('Final Classification.csv')"
   ]
  },
  {
   "cell_type": "code",
   "execution_count": null,
   "id": "89f4e3ad",
   "metadata": {},
   "outputs": [],
   "source": []
  }
 ],
 "metadata": {
  "kernelspec": {
   "display_name": "Python 3",
   "language": "python",
   "name": "python3"
  },
  "language_info": {
   "codemirror_mode": {
    "name": "ipython",
    "version": 3
   },
   "file_extension": ".py",
   "mimetype": "text/x-python",
   "name": "python",
   "nbconvert_exporter": "python",
   "pygments_lexer": "ipython3",
   "version": "3.8.8"
  }
 },
 "nbformat": 4,
 "nbformat_minor": 5
}
