{
 "cells": [
  {
   "cell_type": "code",
   "execution_count": 133,
   "id": "09016b8c",
   "metadata": {},
   "outputs": [],
   "source": [
    "import pip\n",
    "import os\n",
    "import pandas as pd\n",
    "import matplotlib.pyplot as plt"
   ]
  },
  {
   "cell_type": "code",
   "execution_count": 134,
   "id": "a3f23159",
   "metadata": {
    "scrolled": true
   },
   "outputs": [
    {
     "name": "stdout",
     "output_type": "stream",
     "text": [
      "C:\\Users\\theja\\Desktop\\main.PC\\MoState\\S4Fall\\Data Mining 535\\Project\n"
     ]
    }
   ],
   "source": [
    "cd C:\\Users\\theja\\Desktop\\main.PC\\MoState\\S4Fall\\Data Mining 535\\Project"
   ]
  },
  {
   "cell_type": "code",
   "execution_count": 135,
   "id": "3e7456b3",
   "metadata": {},
   "outputs": [],
   "source": [
    "os.system('pip install yfinance')\n",
    "os.system('pip install plotly')\n",
    "import yfinance as yf"
   ]
  },
  {
   "cell_type": "code",
   "execution_count": 136,
   "id": "a40936e8",
   "metadata": {},
   "outputs": [],
   "source": [
    "import datetime\n",
    "current = date.today()\n",
    "one_week = current - datetime.timedelta(days=7)\n",
    "two_week = one_week - datetime.timedelta(days=7)\n",
    "three_week = two_week - datetime.timedelta(days=7)\n",
    "four_week = three_week - datetime.timedelta(days=7)"
   ]
  },
  {
   "cell_type": "code",
   "execution_count": 137,
   "id": "902ef459",
   "metadata": {},
   "outputs": [],
   "source": [
    "df = pd.DataFrame()\n",
    "vals_w1 = []\n",
    "vals_w2 = []\n",
    "vals_w3 = []\n",
    "vals_w4 = []\n",
    "avg_vals = []\n",
    "stock_list = {\n",
    "    'Microsoft': 'MSFT', \n",
    "    'Amazon': 'AMZN', \n",
    "    'Tesla': 'TSLA',\n",
    "    'Netflix': 'NFLX',\n",
    "    'Snap': 'SNAP',\n",
    "    'Bank of America': 'BAC',\n",
    "    'JPMorgan Chase': 'JPM',\n",
    "    'Mastercard': 'MA',\n",
    "    'American Express': 'AXP',\n",
    "    'Capital One': 'COF',\n",
    "    'Nestle': 'NSRGY',\n",
    "    'PepsiCo': 'PEP',\n",
    "    'Uilever': 'UL',\n",
    "    'Monster': 'MNST',\n",
    "    'Hershey': 'HSY',\n",
    "    'Abbott': 'ABT',\n",
    "    'ResMed': 'RMD',\n",
    "    'Penn': 'PENN',\n",
    "    'ABIOMED': 'ABMD',\n",
    "    'Pfizer': 'PFE',\n",
    "}\n",
    "tickers = list(stock_list.values())\n",
    "company = list(stock_list.keys())\n",
    "\n",
    " "
   ]
  },
  {
   "cell_type": "code",
   "execution_count": 138,
   "id": "e41f389d",
   "metadata": {},
   "outputs": [
    {
     "name": "stdout",
     "output_type": "stream",
     "text": [
      "[*********************100%***********************]  1 of 1 completed\n",
      "[*********************100%***********************]  1 of 1 completed\n",
      "[*********************100%***********************]  1 of 1 completed\n",
      "[*********************100%***********************]  1 of 1 completed\n",
      "[*********************100%***********************]  1 of 1 completed\n",
      "[*********************100%***********************]  1 of 1 completed\n",
      "[*********************100%***********************]  1 of 1 completed\n",
      "[*********************100%***********************]  1 of 1 completed\n",
      "[*********************100%***********************]  1 of 1 completed\n",
      "[*********************100%***********************]  1 of 1 completed\n",
      "[*********************100%***********************]  1 of 1 completed\n",
      "[*********************100%***********************]  1 of 1 completed\n",
      "[*********************100%***********************]  1 of 1 completed\n",
      "[*********************100%***********************]  1 of 1 completed\n",
      "[*********************100%***********************]  1 of 1 completed\n",
      "[*********************100%***********************]  1 of 1 completed\n",
      "[*********************100%***********************]  1 of 1 completed\n",
      "[*********************100%***********************]  1 of 1 completed\n",
      "[*********************100%***********************]  1 of 1 completed\n",
      "[*********************100%***********************]  1 of 1 completed\n",
      "[*********************100%***********************]  1 of 1 completed\n",
      "[*********************100%***********************]  1 of 1 completed\n",
      "[*********************100%***********************]  1 of 1 completed\n",
      "[*********************100%***********************]  1 of 1 completed\n",
      "[*********************100%***********************]  1 of 1 completed\n",
      "[*********************100%***********************]  1 of 1 completed\n",
      "[*********************100%***********************]  1 of 1 completed\n",
      "[*********************100%***********************]  1 of 1 completed\n",
      "[*********************100%***********************]  1 of 1 completed\n",
      "[*********************100%***********************]  1 of 1 completed\n",
      "[*********************100%***********************]  1 of 1 completed\n",
      "[*********************100%***********************]  1 of 1 completed\n",
      "[*********************100%***********************]  1 of 1 completed\n",
      "[*********************100%***********************]  1 of 1 completed\n",
      "[*********************100%***********************]  1 of 1 completed\n",
      "[*********************100%***********************]  1 of 1 completed\n",
      "[*********************100%***********************]  1 of 1 completed\n",
      "[*********************100%***********************]  1 of 1 completed\n",
      "[*********************100%***********************]  1 of 1 completed\n",
      "[*********************100%***********************]  1 of 1 completed\n",
      "[*********************100%***********************]  1 of 1 completed\n",
      "[*********************100%***********************]  1 of 1 completed\n",
      "[*********************100%***********************]  1 of 1 completed\n",
      "[*********************100%***********************]  1 of 1 completed\n",
      "[*********************100%***********************]  1 of 1 completed\n",
      "[*********************100%***********************]  1 of 1 completed\n",
      "[*********************100%***********************]  1 of 1 completed\n",
      "[*********************100%***********************]  1 of 1 completed\n",
      "[*********************100%***********************]  1 of 1 completed\n",
      "[*********************100%***********************]  1 of 1 completed\n",
      "[*********************100%***********************]  1 of 1 completed\n",
      "[*********************100%***********************]  1 of 1 completed\n",
      "[*********************100%***********************]  1 of 1 completed\n",
      "[*********************100%***********************]  1 of 1 completed\n",
      "[*********************100%***********************]  1 of 1 completed\n",
      "[*********************100%***********************]  1 of 1 completed\n",
      "[*********************100%***********************]  1 of 1 completed\n",
      "[*********************100%***********************]  1 of 1 completed\n",
      "[*********************100%***********************]  1 of 1 completed\n",
      "[*********************100%***********************]  1 of 1 completed\n",
      "[*********************100%***********************]  1 of 1 completed\n",
      "[*********************100%***********************]  1 of 1 completed\n",
      "[*********************100%***********************]  1 of 1 completed\n",
      "[*********************100%***********************]  1 of 1 completed\n",
      "[*********************100%***********************]  1 of 1 completed\n",
      "[*********************100%***********************]  1 of 1 completed\n",
      "[*********************100%***********************]  1 of 1 completed\n",
      "[*********************100%***********************]  1 of 1 completed\n",
      "[*********************100%***********************]  1 of 1 completed\n",
      "[*********************100%***********************]  1 of 1 completed\n",
      "[*********************100%***********************]  1 of 1 completed\n",
      "[*********************100%***********************]  1 of 1 completed\n",
      "[*********************100%***********************]  1 of 1 completed\n",
      "[*********************100%***********************]  1 of 1 completed\n",
      "[*********************100%***********************]  1 of 1 completed\n",
      "[*********************100%***********************]  1 of 1 completed\n",
      "[*********************100%***********************]  1 of 1 completed\n",
      "[*********************100%***********************]  1 of 1 completed\n",
      "[*********************100%***********************]  1 of 1 completed\n",
      "[*********************100%***********************]  1 of 1 completed\n"
     ]
    }
   ],
   "source": [
    "#determine average price each weel\n",
    "#determine open - close average for each week for one month\n",
    "for name in tickers:\n",
    "    df = yf.download(tickers=name, period='5d', interval='1h',start=one_week,end=current)\n",
    "    op = df['Open'].mean()\n",
    "    cl = df['Close'].mean()\n",
    "    avg_wk1 = (op + cl) / 2\n",
    "    vals_w1.append(op - cl)\n",
    "    df = yf.download(tickers=name, period='5d', interval='1h',start=two_week,end=one_week)\n",
    "    op = df['Open'].mean()\n",
    "    cl = df['Close'].mean()\n",
    "    avg_wk2 = (op + cl) / 2\n",
    "    vals_w2.append(op - cl)\n",
    "    df = yf.download(tickers=name, period='5d', interval='1h',start=three_week,end=two_week)\n",
    "    op = df['Open'].mean()\n",
    "    cl = df['Close'].mean()\n",
    "    avg_wk3 = (op + cl) / 2\n",
    "    vals_w3.append(op - cl)\n",
    "    df = yf.download(tickers=name, period='5d', interval='1h',start=four_week,end=three_week)\n",
    "    op = df['Open'].mean()\n",
    "    cl = df['Close'].mean()\n",
    "    avg_wk4 = (op + cl) / 2\n",
    "    vals_w4.append(op - cl)\n",
    "    avg_vals.append((avg_wk1+avg_wk2+avg_wk3+avg_wk4)/4)"
   ]
  },
  {
   "cell_type": "code",
   "execution_count": 139,
   "id": "ba6f51ed",
   "metadata": {},
   "outputs": [
    {
     "name": "stdout",
     "output_type": "stream",
     "text": [
      "    Stock  Mean Week Total  Average Value\n",
      "0    MSFT         0.492642     334.952677\n",
      "1    AMZN        11.817408    3541.903104\n",
      "2    TSLA         0.974109    1084.440961\n",
      "3    NFLX         3.180068     655.618606\n",
      "4    SNAP         0.191865      50.800097\n",
      "5     BAC         0.130339      46.064376\n",
      "6     JPM         0.379297     163.687115\n",
      "7      MA         0.315931     337.381517\n",
      "8     AXP         0.687470     168.790638\n",
      "9     COF         0.445806     150.861983\n",
      "10  NSRGY         0.162554     131.375491\n",
      "11    PEP         0.101010     163.557865\n",
      "12     UL         0.084795      52.008196\n",
      "13   MNST         0.273651      88.533922\n",
      "14    HSY         0.042714     179.315482\n",
      "15    ABT         0.050658     128.061002\n",
      "16    RMD         0.611297     258.636805\n",
      "17   PENN         0.139145      53.077402\n",
      "18   ABMD         2.338164     333.255334\n",
      "19    PFE        -0.018894      51.715287\n"
     ]
    }
   ],
   "source": [
    "#Calulate the total of the mean open/closes\n",
    "#Calculate the total of all the average prices\n",
    "totals = []\n",
    "avg_total = 0\n",
    "\n",
    "for i in range(0,20):\n",
    "    totals.append(vals_w1[i] + vals_w2[i] + vals_w3[i] + vals_w4[i])\n",
    "    avg_total += avg_vals[i]\n",
    "    \n",
    "df = pd.DataFrame({'Stock': tickers, 'Mean Week Total': totals, 'Average Value' : avg_vals})\n",
    "    \n",
    "print(df)"
   ]
  },
  {
   "cell_type": "code",
   "execution_count": 140,
   "id": "95e56c1e",
   "metadata": {},
   "outputs": [
    {
     "name": "stdout",
     "output_type": "stream",
     "text": [
      "    Stock  Mean Week Total  Average Value  Mean Change\n",
      "0    MSFT         0.492642     334.952677    11.728053\n",
      "1    AMZN        11.817408    3541.903104    26.605036\n",
      "2    TSLA         0.974109    1084.440961     7.162749\n",
      "3    NFLX         3.180068     655.618606    38.677944\n",
      "4    SNAP         0.191865      50.800097    30.116867\n",
      "5     BAC         0.130339      46.064376    22.562500\n",
      "6     JPM         0.379297     163.687115    18.477511\n",
      "7      MA         0.315931     337.381517     7.467042\n",
      "8     AXP         0.687470     168.790638    32.477566\n",
      "9     COF         0.445806     150.861983    23.563745\n",
      "10  NSRGY         0.162554     131.375491     9.866464\n",
      "11    PEP         0.101010     163.557865     4.924614\n",
      "12     UL         0.084795      52.008196    13.001038\n",
      "13   MNST         0.273651      88.533922    24.647057\n",
      "14    HSY         0.042714     179.315482     1.899450\n",
      "15    ABT         0.050658     128.061002     3.154361\n",
      "16    RMD         0.611297     258.636805    18.846918\n",
      "17   PENN         0.139145      53.077402    20.904268\n",
      "18   ABMD         2.338164     333.255334    55.946905\n",
      "19    PFE        -0.018894      51.715287    -2.913310\n"
     ]
    }
   ],
   "source": [
    "#algorithm for determining value of change\n",
    "pct_of_total = []\n",
    "calculated_mean = []\n",
    "for i in range(0,20):\n",
    "    pct_of_total.append(avg_vals[i] / avg_total)\n",
    "    calculated_mean.append(totals[i] / pct_of_total[i])\n",
    "    \n",
    "df.insert(len(df.columns),'Mean Change', calculated_mean)\n",
    "print(df)"
   ]
  },
  {
   "cell_type": "code",
   "execution_count": 141,
   "id": "a10726f2",
   "metadata": {},
   "outputs": [
    {
     "name": "stdout",
     "output_type": "stream",
     "text": [
      "    Stock  Mean Week Total  Average Value  Mean Change Buy Hold or Sell\n",
      "0    MSFT         0.492642     334.952677    11.728053              Buy\n",
      "1    AMZN        11.817408    3541.903104    26.605036              Buy\n",
      "2    TSLA         0.974109    1084.440961     7.162749             Hold\n",
      "3    NFLX         3.180068     655.618606    38.677944              Buy\n",
      "4    SNAP         0.191865      50.800097    30.116867              Buy\n",
      "5     BAC         0.130339      46.064376    22.562500              Buy\n",
      "6     JPM         0.379297     163.687115    18.477511              Buy\n",
      "7      MA         0.315931     337.381517     7.467042             Hold\n",
      "8     AXP         0.687470     168.790638    32.477566              Buy\n",
      "9     COF         0.445806     150.861983    23.563745              Buy\n",
      "10  NSRGY         0.162554     131.375491     9.866464             Hold\n",
      "11    PEP         0.101010     163.557865     4.924614             Hold\n",
      "12     UL         0.084795      52.008196    13.001038              Buy\n",
      "13   MNST         0.273651      88.533922    24.647057              Buy\n",
      "14    HSY         0.042714     179.315482     1.899450             Hold\n",
      "15    ABT         0.050658     128.061002     3.154361             Hold\n",
      "16    RMD         0.611297     258.636805    18.846918              Buy\n",
      "17   PENN         0.139145      53.077402    20.904268              Buy\n",
      "18   ABMD         2.338164     333.255334    55.946905              Buy\n",
      "19    PFE        -0.018894      51.715287    -2.913310             Sell\n"
     ]
    }
   ],
   "source": [
    "#assign buy, hold, or sell value to each stock\n",
    "#based on value of change\n",
    "bsh = []\n",
    "colors = []\n",
    "for i in range(0,20):\n",
    "    if (calculated_mean[i] > 10):\n",
    "        bsh.append('Buy')\n",
    "        colors.append('g')\n",
    "    if ((calculated_mean[i] < 10) & (calculated_mean[i] > 0)):\n",
    "        bsh.append(\"Hold\")\n",
    "        colors.append('y')\n",
    "    if (calculated_mean[i] < 0):\n",
    "        bsh.append(\"Sell\")\n",
    "        colors.append('b')\n",
    "        \n",
    "df.insert(len(df.columns), 'Buy Hold or Sell', bsh)\n",
    "print(df)"
   ]
  },
  {
   "cell_type": "code",
   "execution_count": 142,
   "id": "f2709b27",
   "metadata": {},
   "outputs": [
    {
     "data": {
      "text/plain": [
       "<matplotlib.collections.PathCollection at 0x1a0e994d880>"
      ]
     },
     "execution_count": 142,
     "metadata": {},
     "output_type": "execute_result"
    },
    {
     "data": {
      "image/png": "[encoded data removed]",
      "text/plain": [
       "<Figure size 432x288 with 1 Axes>"
      ]
     },
     "metadata": {
      "needs_background": "light"
     },
     "output_type": "display_data"
    }
   ],
   "source": [
    "#Show values of change on scatterplot graph\n",
    "plt.scatter(df['Buy Hold or Sell'], \n",
    "                df['Mean Change'],\n",
    "                color = 'black')"
   ]
  },
  {
   "cell_type": "code",
   "execution_count": 143,
   "id": "0d6cbb6b",
   "metadata": {},
   "outputs": [],
   "source": [
    "#Save final dataframe to a CSV file\n",
    "df.to_csv('Final Classification.csv')"
   ]
  },
  {
   "cell_type": "code",
   "execution_count": null,
   "id": "74e31e20",
   "metadata": {},
   "outputs": [],
   "source": []
  }
 ],
 "metadata": {
  "kernelspec": {
   "display_name": "Python 3",
   "language": "python",
   "name": "python3"
  },
  "language_info": {
   "codemirror_mode": {
    "name": "ipython",
    "version": 3
   },
   "file_extension": ".py",
   "mimetype": "text/x-python",
   "name": "python",
   "nbconvert_exporter": "python",
   "pygments_lexer": "ipython3",
   "version": "3.8.8"
  }
 },
 "nbformat": 4,
 "nbformat_minor": 5
}
